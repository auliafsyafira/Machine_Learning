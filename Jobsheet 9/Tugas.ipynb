{
  "cells": [
    {
      "cell_type": "markdown",
      "metadata": {
        "id": "view-in-github",
        "colab_type": "text"
      },
      "source": [
        "<a href=\"https://colab.research.google.com/github/auliafsyafira/Machine_Learning/blob/main/Jobsheet%209/Tugas.ipynb\" target=\"_parent\"><img src=\"https://colab.research.google.com/assets/colab-badge.svg\" alt=\"Open In Colab\"/></a>"
      ]
    },
    {
      "cell_type": "markdown",
      "source": [
        "## **1. Import Library**"
      ],
      "metadata": {
        "id": "rV6jjplM6GaV"
      },
      "id": "rV6jjplM6GaV"
    },
    {
      "cell_type": "code",
      "execution_count": 15,
      "id": "8c39286d-55a9-48d5-92a4-03983b3e7938",
      "metadata": {
        "id": "8c39286d-55a9-48d5-92a4-03983b3e7938"
      },
      "outputs": [],
      "source": [
        "import tensorflow as tf\n",
        "from keras.datasets import mnist\n",
        "from tensorflow.keras.utils import to_categorical\n",
        "import numpy as np\n",
        "import matplotlib.pyplot as plt\n",
        "from sklearn.metrics import confusion_matrix, ConfusionMatrixDisplay"
      ]
    },
    {
      "cell_type": "markdown",
      "source": [
        "Kode ini mengimpor beberapa library yang digunakan dalam deep learning, terutama untuk pelatihan model neural network pada dataset MNIST.\n",
        "\n",
        "- import tensorflow as tf: Mengimpor TensorFlow untuk membangun dan melatih model deep learning.\n",
        "- from keras.datasets import mnist: Mengimpor dataset MNIST, berisi gambar angka 0-9 untuk klasifikasi.\n",
        "- from tensorflow.keras.utils import to_categorical: Mengonversi label kelas ke format one-hot encoding.\n",
        "- import numpy as np: Mengimpor Numpy untuk manipulasi array dan operasi numerik.\n",
        "- import matplotlib.pyplot as plt: Mengimpor Matplotlib untuk visualisasi data.\n",
        "- from sklearn.metrics import confusion_matrix, ConfusionMatrixDisplay: Mengimpor fungsi untuk menghitung dan menampilkan confusion matrix untuk evaluasi model klasifikasi."
      ],
      "metadata": {
        "id": "op6wkV977AzX"
      },
      "id": "op6wkV977AzX"
    },
    {
      "cell_type": "markdown",
      "source": [
        "## **2. Memuat Dataset**"
      ],
      "metadata": {
        "id": "N42K5WZB8Bbi"
      },
      "id": "N42K5WZB8Bbi"
    },
    {
      "cell_type": "code",
      "execution_count": 2,
      "id": "e80fe838-3c88-4f7c-b33c-baef36e8c052",
      "metadata": {
        "colab": {
          "base_uri": "https://localhost:8080/"
        },
        "id": "e80fe838-3c88-4f7c-b33c-baef36e8c052",
        "outputId": "16aa1344-8cb4-4209-970d-8322dff6ed99"
      },
      "outputs": [
        {
          "output_type": "stream",
          "name": "stdout",
          "text": [
            "Downloading data from https://storage.googleapis.com/tensorflow/tf-keras-datasets/mnist.npz\n",
            "\u001b[1m11490434/11490434\u001b[0m \u001b[32m━━━━━━━━━━━━━━━━━━━━\u001b[0m\u001b[37m\u001b[0m \u001b[1m0s\u001b[0m 0us/step\n"
          ]
        }
      ],
      "source": [
        "# Load data\n",
        "(X_train, y_train), (X_test, y_test) = mnist.load_data()"
      ]
    },
    {
      "cell_type": "markdown",
      "source": [
        "- mnist.load_data(): Fungsi ini memuat dataset MNIST yang terdiri dari gambar angka (0-9). Dataset ini terbagi menjadi dua bagian: data pelatihan (training) dan data pengujian (testing).\n",
        "- y_train: Array yang berisi label (angka) untuk gambar pelatihan.\n",
        "- y_test: Array yang berisi label untuk gambar pengujian."
      ],
      "metadata": {
        "id": "eS4bz5ZV8TtW"
      },
      "id": "eS4bz5ZV8TtW"
    },
    {
      "cell_type": "code",
      "execution_count": 3,
      "id": "5fa64b72-9bb4-45c5-82df-6dc44414bf67",
      "metadata": {
        "colab": {
          "base_uri": "https://localhost:8080/"
        },
        "id": "5fa64b72-9bb4-45c5-82df-6dc44414bf67",
        "outputId": "6d717452-dc29-44f5-b8ea-dcf02e64261c"
      },
      "outputs": [
        {
          "output_type": "execute_result",
          "data": {
            "text/plain": [
              "(60000,)"
            ]
          },
          "metadata": {},
          "execution_count": 3
        }
      ],
      "source": [
        "X_train.shape\n",
        "y_train.shape"
      ]
    },
    {
      "cell_type": "code",
      "execution_count": 4,
      "id": "442ca292-23f9-476b-a013-eb0ca80d792b",
      "metadata": {
        "colab": {
          "base_uri": "https://localhost:8080/"
        },
        "id": "442ca292-23f9-476b-a013-eb0ca80d792b",
        "outputId": "1d4554cc-fe67-42b0-b1ab-5f545a45872b"
      },
      "outputs": [
        {
          "output_type": "execute_result",
          "data": {
            "text/plain": [
              "(10000,)"
            ]
          },
          "metadata": {},
          "execution_count": 4
        }
      ],
      "source": [
        "X_test.shape\n",
        "y_test.shape"
      ]
    },
    {
      "cell_type": "markdown",
      "source": [
        "## **3. Pra-Pengolahan Data**"
      ],
      "metadata": {
        "id": "fE7W2gKw90JN"
      },
      "id": "fE7W2gKw90JN"
    },
    {
      "cell_type": "code",
      "execution_count": 5,
      "id": "72bdaffa-730b-44ff-96fe-951e4da18519",
      "metadata": {
        "id": "72bdaffa-730b-44ff-96fe-951e4da18519"
      },
      "outputs": [],
      "source": [
        "# Normalisasi Pixel\n",
        "X_train = X_train / 255.0\n",
        "X_test = X_test / 255.0"
      ]
    },
    {
      "cell_type": "markdown",
      "source": [
        "Langkah ini dilakukan untuk mengubah nilai piksel gambar, yang awalnya berkisar antara 0 hingga 255 (nilai intensitas warna pada gambar grayscale), menjadi rentang 0 hingga 1"
      ],
      "metadata": {
        "id": "7xemgmUd-BQC"
      },
      "id": "7xemgmUd-BQC"
    },
    {
      "cell_type": "code",
      "execution_count": 6,
      "id": "cf14c179-a2a9-48cf-9ec2-369a982e02dd",
      "metadata": {
        "id": "cf14c179-a2a9-48cf-9ec2-369a982e02dd"
      },
      "outputs": [],
      "source": [
        "# Ubah array jadi 1 dimensi\n",
        "X_train = X_train.reshape(-1, 28 * 28)\n",
        "X_test = X_test.reshape(-1, 28 * 28)"
      ]
    },
    {
      "cell_type": "markdown",
      "source": [
        "Langkah ini mengubah bentuk array gambar dari dua dimensi (28x28 piksel) menjadi satu dimensi (784 piksel).\n",
        "- reshape(-1, 28 * 28):\n",
        "    - -1 memberitahu Numpy untuk menghitung ukuran yang tepat dari dimensi pertama secara otomatis berdasarkan ukuran total array.\n",
        "    - 28 * 28 mengubah setiap gambar dari bentuk (28, 28) menjadi (784,) untuk digunakan dalam model yang biasanya membutuhkan input 1 dimensi, seperti model Neural Network yang menggunakan lapisan Dense."
      ],
      "metadata": {
        "id": "meos1Xa6-MJI"
      },
      "id": "meos1Xa6-MJI"
    },
    {
      "cell_type": "code",
      "execution_count": 7,
      "id": "a7701614-e826-4b7c-a431-01f9d0c6bf80",
      "metadata": {
        "id": "a7701614-e826-4b7c-a431-01f9d0c6bf80"
      },
      "outputs": [],
      "source": [
        "# One hot encoding untuk label\n",
        "y_train = to_categorical(y_train, 10)\n",
        "y_test = to_categorical(y_test, 10)"
      ]
    },
    {
      "cell_type": "markdown",
      "source": [
        "Langkah ini mengubah label kelas (angka 0-9) menjadi format one-hot encoding, yang merupakan representasi biner dari kelas-kelas tersebut.\n",
        "- Misalnya, label 3 akan diubah menjadi [0, 0, 0, 1, 0, 0, 0, 0, 0, 0], di mana 1 menunjukkan kelas yang benar dan 0 menunjukkan kelas yang salah.\n",
        "- Fungsi to_categorical(y_train, 10) mengonversi label pelatihan y_train menjadi format one-hot, dengan 10 menunjukkan jumlah kelas yang ada (angka 0 hingga 9)."
      ],
      "metadata": {
        "id": "tVidLo5u-rCs"
      },
      "id": "tVidLo5u-rCs"
    },
    {
      "cell_type": "markdown",
      "source": [
        "## **4. Pembangunan Model untuk ANN**"
      ],
      "metadata": {
        "id": "B4Demo8T_DPL"
      },
      "id": "B4Demo8T_DPL"
    },
    {
      "cell_type": "code",
      "execution_count": 8,
      "id": "c0faac4f-4a86-477d-ab33-d19c1a46cfcf",
      "metadata": {
        "colab": {
          "base_uri": "https://localhost:8080/"
        },
        "id": "c0faac4f-4a86-477d-ab33-d19c1a46cfcf",
        "outputId": "47d54d06-d40e-4e6d-f70d-10a778dc93b3"
      },
      "outputs": [
        {
          "output_type": "stream",
          "name": "stderr",
          "text": [
            "/usr/local/lib/python3.10/dist-packages/keras/src/layers/core/dense.py:87: UserWarning: Do not pass an `input_shape`/`input_dim` argument to a layer. When using Sequential models, prefer using an `Input(shape)` object as the first layer in the model instead.\n",
            "  super().__init__(activity_regularizer=activity_regularizer, **kwargs)\n"
          ]
        }
      ],
      "source": [
        "from tensorflow.keras.models import Sequential\n",
        "from tensorflow.keras.layers import Dense\n",
        "\n",
        "# model ANN\n",
        "model = Sequential()\n",
        "\n",
        "# Input layer dan Hidden layer 1\n",
        "model.add(Dense(128, activation='relu', input_shape=(784,)))\n",
        "\n",
        "# Hidden layer 2\n",
        "model.add(Dense(64, activation='relu'))\n",
        "\n",
        "# Output layer\n",
        "model.add(Dense(10, activation='softmax'))\n",
        "\n",
        "# Kompilasi model\n",
        "model.compile(optimizer='adam', loss='categorical_crossentropy', metrics=['accuracy'])"
      ]
    },
    {
      "cell_type": "markdown",
      "source": [
        "- Impor Library: Mengimpor Sequential untuk membuat model dan Dense untuk menambahkan lapisan ke dalam model.\n",
        "\n",
        "- Input Layer dan Hidden Layer 1:\n",
        "   - Menambahkan lapisan input dengan 128 neuron dan fungsi aktivasi **ReLU** (Rectified Linear Unit).\n",
        "   - input_shape=(784,) menunjukkan bahwa input adalah vektor satu dimensi dengan 784 elemen (setiap gambar yang telah di-flatten).\n",
        "\n",
        "- Hidden Layer 2: Menambahkan lapisan tersembunyi kedua dengan 64 neuron, juga menggunakan fungsi aktivasi ReLU.\n",
        "\n",
        "- Output Layer: Menambahkan lapisan output dengan 10 neuron (satu untuk setiap kelas) menggunakan fungsi aktivasi softmax, yang mengubah output menjadi probabilitas untuk masing-masing kelas.\n",
        "\n",
        "- Kompilasi Model: Mengonfigurasi model untuk pelatihan dengan:\n",
        "   - Optimizer: adam, yang merupakan algoritma optimisasi yang populer dan efisien.\n",
        "   - Loss Function: categorical_crossentropy, yang digunakan untuk mengukur kesalahan model dalam klasifikasi multi-kelas.\n",
        "   - Metrics: accuracy, yang digunakan untuk mengevaluasi kinerja model."
      ],
      "metadata": {
        "id": "kOsKytVO_Tv1"
      },
      "id": "kOsKytVO_Tv1"
    },
    {
      "cell_type": "markdown",
      "source": [
        "## **5. Pelatihan Model**"
      ],
      "metadata": {
        "id": "mILTjC-UAGk7"
      },
      "id": "mILTjC-UAGk7"
    },
    {
      "cell_type": "code",
      "execution_count": 9,
      "id": "7b54c1e8-1942-4d9e-8dfa-89e69068afa2",
      "metadata": {
        "colab": {
          "base_uri": "https://localhost:8080/"
        },
        "id": "7b54c1e8-1942-4d9e-8dfa-89e69068afa2",
        "outputId": "13440cda-06c3-48a4-e58b-8219c666e3ca"
      },
      "outputs": [
        {
          "output_type": "stream",
          "name": "stdout",
          "text": [
            "Epoch 1/10\n",
            "\u001b[1m1875/1875\u001b[0m \u001b[32m━━━━━━━━━━━━━━━━━━━━\u001b[0m\u001b[37m\u001b[0m \u001b[1m10s\u001b[0m 5ms/step - accuracy: 0.8788 - loss: 0.4193 - val_accuracy: 0.9637 - val_loss: 0.1158\n",
            "Epoch 2/10\n",
            "\u001b[1m1875/1875\u001b[0m \u001b[32m━━━━━━━━━━━━━━━━━━━━\u001b[0m\u001b[37m\u001b[0m \u001b[1m8s\u001b[0m 4ms/step - accuracy: 0.9681 - loss: 0.1049 - val_accuracy: 0.9709 - val_loss: 0.0970\n",
            "Epoch 3/10\n",
            "\u001b[1m1875/1875\u001b[0m \u001b[32m━━━━━━━━━━━━━━━━━━━━\u001b[0m\u001b[37m\u001b[0m \u001b[1m9s\u001b[0m 4ms/step - accuracy: 0.9774 - loss: 0.0715 - val_accuracy: 0.9744 - val_loss: 0.0831\n",
            "Epoch 4/10\n",
            "\u001b[1m1875/1875\u001b[0m \u001b[32m━━━━━━━━━━━━━━━━━━━━\u001b[0m\u001b[37m\u001b[0m \u001b[1m9s\u001b[0m 5ms/step - accuracy: 0.9823 - loss: 0.0533 - val_accuracy: 0.9697 - val_loss: 0.0964\n",
            "Epoch 5/10\n",
            "\u001b[1m1875/1875\u001b[0m \u001b[32m━━━━━━━━━━━━━━━━━━━━\u001b[0m\u001b[37m\u001b[0m \u001b[1m10s\u001b[0m 5ms/step - accuracy: 0.9876 - loss: 0.0407 - val_accuracy: 0.9741 - val_loss: 0.0870\n",
            "Epoch 6/10\n",
            "\u001b[1m1875/1875\u001b[0m \u001b[32m━━━━━━━━━━━━━━━━━━━━\u001b[0m\u001b[37m\u001b[0m \u001b[1m8s\u001b[0m 4ms/step - accuracy: 0.9897 - loss: 0.0323 - val_accuracy: 0.9768 - val_loss: 0.0779\n",
            "Epoch 7/10\n",
            "\u001b[1m1875/1875\u001b[0m \u001b[32m━━━━━━━━━━━━━━━━━━━━\u001b[0m\u001b[37m\u001b[0m \u001b[1m9s\u001b[0m 5ms/step - accuracy: 0.9912 - loss: 0.0267 - val_accuracy: 0.9773 - val_loss: 0.0831\n",
            "Epoch 8/10\n",
            "\u001b[1m1875/1875\u001b[0m \u001b[32m━━━━━━━━━━━━━━━━━━━━\u001b[0m\u001b[37m\u001b[0m \u001b[1m7s\u001b[0m 4ms/step - accuracy: 0.9928 - loss: 0.0227 - val_accuracy: 0.9767 - val_loss: 0.0892\n",
            "Epoch 9/10\n",
            "\u001b[1m1875/1875\u001b[0m \u001b[32m━━━━━━━━━━━━━━━━━━━━\u001b[0m\u001b[37m\u001b[0m \u001b[1m10s\u001b[0m 4ms/step - accuracy: 0.9937 - loss: 0.0195 - val_accuracy: 0.9766 - val_loss: 0.0916\n",
            "Epoch 10/10\n",
            "\u001b[1m1875/1875\u001b[0m \u001b[32m━━━━━━━━━━━━━━━━━━━━\u001b[0m\u001b[37m\u001b[0m \u001b[1m10s\u001b[0m 4ms/step - accuracy: 0.9951 - loss: 0.0150 - val_accuracy: 0.9798 - val_loss: 0.0843\n"
          ]
        },
        {
          "output_type": "execute_result",
          "data": {
            "text/plain": [
              "<keras.src.callbacks.history.History at 0x7de79ac94220>"
            ]
          },
          "metadata": {},
          "execution_count": 9
        }
      ],
      "source": [
        "# Latih model\n",
        "model.fit(X_train, y_train, epochs=10, batch_size=32, validation_data=(X_test, y_test))"
      ]
    },
    {
      "cell_type": "markdown",
      "source": [
        "- model.fit(): Fungsi ini digunakan untuk melatih model menggunakan data pelatihan (X_train dan y_train).\n",
        "   \n",
        "- Parameter:\n",
        "   - epochs=10: Menentukan jumlah iterasi lengkap (epoch) di mana model akan dilatih pada seluruh dataset. Di sini, model akan dilatih selama 10 epoch.\n",
        "   - batch_size=32: Menentukan jumlah sampel yang akan diproses sebelum model diperbarui. Dengan batch size 32, model akan memperbarui bobotnya setiap 32 sampel.\n",
        "   - validation_data=(X_test, y_test): Menyediakan data validasi (data pengujian) untuk mengevaluasi kinerja model setelah setiap epoch.\n"
      ],
      "metadata": {
        "id": "wBtzFR3eARB4"
      },
      "id": "wBtzFR3eARB4"
    },
    {
      "cell_type": "markdown",
      "source": [
        "## **6. Evaluasi Model**"
      ],
      "metadata": {
        "id": "2beGX8pdAl8m"
      },
      "id": "2beGX8pdAl8m"
    },
    {
      "cell_type": "code",
      "execution_count": 10,
      "id": "42089350-eb2a-4877-862b-19d21df72e07",
      "metadata": {
        "colab": {
          "base_uri": "https://localhost:8080/"
        },
        "id": "42089350-eb2a-4877-862b-19d21df72e07",
        "outputId": "b4d77ad3-00a0-4c92-ea08-b393a52f3435"
      },
      "outputs": [
        {
          "output_type": "stream",
          "name": "stdout",
          "text": [
            "Test Accuracy: 0.9798\n"
          ]
        }
      ],
      "source": [
        "# Hitung Akurasi\n",
        "test_loss, test_accuracy = model.evaluate(X_test, y_test, verbose=0)\n",
        "print(f'Test Accuracy: {test_accuracy:.4f}')"
      ]
    },
    {
      "cell_type": "markdown",
      "source": [
        "Langkah ini digunakan untuk mengevaluasi kinerja model pada data pengujian (X_test dan y_test)."
      ],
      "metadata": {
        "id": "EtfBSUkXC84S"
      },
      "id": "EtfBSUkXC84S"
    },
    {
      "cell_type": "code",
      "execution_count": 12,
      "id": "856ebdae-b68f-4e80-83ab-4a68400a4d90",
      "metadata": {
        "colab": {
          "base_uri": "https://localhost:8080/",
          "height": 489
        },
        "id": "856ebdae-b68f-4e80-83ab-4a68400a4d90",
        "outputId": "8efdc750-208b-4dc1-d3fc-c8940ac47056"
      },
      "outputs": [
        {
          "output_type": "stream",
          "name": "stdout",
          "text": [
            "\u001b[1m313/313\u001b[0m \u001b[32m━━━━━━━━━━━━━━━━━━━━\u001b[0m\u001b[37m\u001b[0m \u001b[1m2s\u001b[0m 6ms/step\n"
          ]
        },
        {
          "output_type": "display_data",
          "data": {
            "text/plain": [
              "<Figure size 640x480 with 2 Axes>"
            ],
            "image/png": "[encoded data removed]"
          },
          "metadata": {}
        }
      ],
      "source": [
        "from sklearn.metrics import confusion_matrix, ConfusionMatrixDisplay\n",
        "\n",
        "# Prediksi\n",
        "y_pred = model.predict(X_test)\n",
        "y_pred_classes = np.argmax(y_pred, axis=1)  # Kelas dengan probabilitas tertinggi\n",
        "y_true = np.argmax(y_test, axis=1)  # Kelas sebenarnya\n",
        "\n",
        "# Hitung dan tampilkan confusion matrix\n",
        "cm = confusion_matrix(y_true, y_pred_classes)\n",
        "\n",
        "# Tampilkan confusion matrix\n",
        "cmd = ConfusionMatrixDisplay(confusion_matrix=cm, display_labels=np.arange(10))\n",
        "cmd.plot(cmap=plt.cm.Blues)\n",
        "plt.title('Confusion Matrix')\n",
        "plt.show()"
      ]
    },
    {
      "cell_type": "markdown",
      "source": [
        "Confusion matrix dibuat untuk mengidentifikasi jumlah prediksi yang benar dan salah untuk setiap digit. Dalam confusion matrix, baris menunjukkan label aktual, sedangkan kolom menggambarkan label yang diprediksi."
      ],
      "metadata": {
        "id": "1VOLuVD_Dauj"
      },
      "id": "1VOLuVD_Dauj"
    },
    {
      "cell_type": "markdown",
      "source": [
        "# **Hasil:**\n",
        "### **Akurasi**\n",
        "Hasil akurasi Test Accuracy: 0.9798 menunjukkan bahwa model dapat mengklasifikasikan sekitar 97.98% dari data pengujian dengan benar. Ini menunjukkan bahwa model tersebut mampu mengenali pola dalam data dengan sangat baik.\n",
        "\n",
        "### **Confusion Matrix**\n",
        "Confusion matrix menunjukkan bahwa model memiliki akurasi tinggi, dengan sebagian besar prediksi berada di diagonal utama. Misalnya, kelas 0 memiliki 964 instance yang benar diklasifikasikan, dan hanya beberapa yang salah diklasifikasikan. Kelas 0, 1, dan 3 memiliki performa terbaik, sementara kelas 5 dan 6 menunjukkan beberapa kesalahan klasifikasi yang lebih tinggi. Kesalahan umum terjadi antara kelas 5 dan 8, serta kelas 8 dan 9. Perbaikan diperlukan terutama untuk kelas 5 dan 6.\n"
      ],
      "metadata": {
        "id": "lI7j8CPg5eN9"
      },
      "id": "lI7j8CPg5eN9"
    }
  ],
  "metadata": {
    "kernelspec": {
      "display_name": "Python 3 (ipykernel)",
      "language": "python",
      "name": "python3"
    },
    "language_info": {
      "codemirror_mode": {
        "name": "ipython",
        "version": 3
      },
      "file_extension": ".py",
      "mimetype": "text/x-python",
      "name": "python",
      "nbconvert_exporter": "python",
      "pygments_lexer": "ipython3",
      "version": "3.8.16"
    },
    "colab": {
      "provenance": [],
      "include_colab_link": true
    }
  },
  "nbformat": 4,
  "nbformat_minor": 5
}