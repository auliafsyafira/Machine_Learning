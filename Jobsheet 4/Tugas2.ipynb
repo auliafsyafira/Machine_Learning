{
  "nbformat": 4,
  "nbformat_minor": 0,
  "metadata": {
    "colab": {
      "provenance": [],
      "authorship_tag": "ABX9TyOppYACX11akr0JHgF4HVU3",
      "include_colab_link": true
    },
    "kernelspec": {
      "name": "python3",
      "display_name": "Python 3"
    },
    "language_info": {
      "name": "python"
    }
  },
  "cells": [
    {
      "cell_type": "markdown",
      "metadata": {
        "id": "view-in-github",
        "colab_type": "text"
      },
      "source": [
        "<a href=\"https://colab.research.google.com/github/auliafsyafira/Machine_Learning/blob/main/Jobsheet%204/Tugas2.ipynb\" target=\"_parent\"><img src=\"https://colab.research.google.com/assets/colab-badge.svg\" alt=\"Open In Colab\"/></a>"
      ]
    },
    {
      "cell_type": "markdown",
      "source": [
        "Buatlah model klasifikasi dengan menggunakan SVM berdasarkan data pada Percobaan 5 dengan menggunakan fitur histogram."
      ],
      "metadata": {
        "id": "a7HYBXGMOkAt"
      }
    },
    {
      "cell_type": "code",
      "execution_count": null,
      "metadata": {
        "colab": {
          "base_uri": "https://localhost:8080/"
        },
        "id": "8cpsPVJBOUkH",
        "outputId": "64d951f2-e169-47fd-c693-c0666057e3aa"
      },
      "outputs": [
        {
          "output_type": "stream",
          "name": "stdout",
          "text": [
            "File images.zip berhasil diekstrak ke folder images\n"
          ]
        }
      ],
      "source": [
        "import zipfile\n",
        "import os\n",
        "\n",
        "# Nama file zip\n",
        "zip_file = 'images.zip'\n",
        "\n",
        "# Cek apakah file .zip ada\n",
        "if os.path.exists(zip_file):\n",
        "    # Buat folder tujuan jika belum ada\n",
        "    extract_path = 'images'\n",
        "    if not os.path.exists(extract_path):\n",
        "        os.makedirs(extract_path)\n",
        "\n",
        "    # Ekstrak file .zip ke dalam folder 'images'\n",
        "    with zipfile.ZipFile(zip_file, 'r') as zip_ref:\n",
        "        zip_ref.extractall(extract_path)\n",
        "    print(f'File {zip_file} berhasil diekstrak ke folder {extract_path}')\n",
        "else:\n",
        "    print(f'File {zip_file} tidak ditemukan.')\n"
      ]
    },
    {
      "cell_type": "code",
      "source": [
        "import cv2\n",
        "import numpy as np\n",
        "import os\n",
        "\n",
        "def extract_histogram(image_path, bins=32):\n",
        "    image = cv2.imread(image_path)\n",
        "    # Resize gambar\n",
        "    image = cv2.resize(image, (128, 128))\n",
        "    # Hitung histogram untuk setiap channel warna (RGB)\n",
        "    hist = []\n",
        "    for i in range(3):  # Untuk channel R, G, B\n",
        "        channel_hist = cv2.calcHist([image], [i], None, [bins], [0, 256])\n",
        "        hist.extend(channel_hist.flatten())\n",
        "    return np.array(hist)\n",
        "\n",
        "def load_data(image_folder, label):\n",
        "    data = []\n",
        "    labels = []\n",
        "    for img_file in os.listdir(image_folder):\n",
        "        img_path = os.path.join(image_folder, img_file)\n",
        "        hist_features = extract_histogram(img_path)\n",
        "        data.append(hist_features)\n",
        "        labels.append(label)\n",
        "    return np.array(data), np.array(labels)\n",
        "\n",
        "import cv2\n",
        "import numpy as np\n",
        "import os\n",
        "\n",
        "def extract_histogram(image_path, bins=32):\n",
        "    image = cv2.imread(image_path)\n",
        "    # Resize gambar\n",
        "    image = cv2.resize(image, (128, 128))\n",
        "    # Hitung histogram untuk setiap channel warna (RGB)\n",
        "    hist = []\n",
        "    for i in range(3):  # Untuk channel R, G, B\n",
        "        channel_hist = cv2.calcHist([image], [i], None, [bins], [0, 256])\n",
        "        hist.extend(channel_hist.flatten())\n",
        "    return np.array(hist)\n",
        "\n",
        "def load_data(image_folder, label):\n",
        "    data = []\n",
        "    labels = []\n",
        "    for img_file in os.listdir(image_folder):\n",
        "        img_path = os.path.join(image_folder, img_file)\n",
        "        hist_features = extract_histogram(img_path)\n",
        "        data.append(hist_features)\n",
        "        labels.append(label)\n",
        "    return np.array(data), np.array(labels)\n",
        "\n",
        "# Folder untuk training dan test\n",
        "train_day_folder = '/content/images/images/training/day'\n",
        "train_night_folder = '/content/images/images/training/night'\n",
        "test_day_folder = '/content/images/images/test/day'\n",
        "test_night_folder = '/content/images/images/test/night'\n",
        "\n",
        "# Load data training\n",
        "X_train_day, y_train_day = load_data(train_day_folder, 0)  # 0 untuk day\n",
        "X_train_night, y_train_night = load_data(train_night_folder, 1)  # 1 untuk night\n",
        "\n",
        "# Load data test\n",
        "X_test_day, y_test_day = load_data(test_day_folder, 0)\n",
        "X_test_night, y_test_night = load_data(test_night_folder, 1)\n",
        "\n",
        "# Gabungkan data day dan night\n",
        "X_train = np.vstack((X_train_day, X_train_night))\n",
        "y_train = np.hstack((y_train_day, y_train_night))\n",
        "X_test = np.vstack((X_test_day, X_test_night))\n",
        "y_test = np.hstack((y_test_day, y_test_night))\n",
        "\n",
        "\n",
        "from sklearn.svm import SVC\n",
        "from sklearn.preprocessing import StandardScaler\n",
        "from sklearn.pipeline import make_pipeline\n",
        "from sklearn.metrics import classification_report, accuracy_score\n",
        "\n",
        "\n",
        "# Buat pipeline untuk normalisasi data dan SVM\n",
        "model = make_pipeline(StandardScaler(), SVC(kernel='linear'))\n",
        "\n",
        "# Latih model dengan data training\n",
        "model.fit(X_train, y_train)\n",
        "\n",
        "# Prediksi pada data test\n",
        "y_pred = model.predict(X_test)\n",
        "\n",
        "# Evaluasi performa model\n",
        "print(\"Accuracy:\", accuracy_score(y_test, y_pred))\n",
        "print(classification_report(y_test, y_pred))"
      ],
      "metadata": {
        "colab": {
          "base_uri": "https://localhost:8080/"
        },
        "id": "TkwhA3pwQlJq",
        "outputId": "727fb669-ad4e-4a84-9c84-9cc388ef6bc0"
      },
      "execution_count": 4,
      "outputs": [
        {
          "output_type": "stream",
          "name": "stdout",
          "text": [
            "Accuracy: 0.95\n",
            "              precision    recall  f1-score   support\n",
            "\n",
            "           0       0.97      0.93      0.95        80\n",
            "           1       0.93      0.97      0.95        80\n",
            "\n",
            "    accuracy                           0.95       160\n",
            "   macro avg       0.95      0.95      0.95       160\n",
            "weighted avg       0.95      0.95      0.95       160\n",
            "\n"
          ]
        }
      ]
    }
  ]
}